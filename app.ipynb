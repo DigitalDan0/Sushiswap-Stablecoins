{
 "cells": [
  {
   "cell_type": "code",
   "execution_count": 95,
   "metadata": {},
   "outputs": [],
   "source": [
    "import openai\n",
    "import streamlit as st\n",
    "import pandas as pd\n",
    "from shroomdk import ShroomDK\n",
    "import config\n",
    "from subgrounds import Subgrounds\n"
   ]
  },
  {
   "cell_type": "code",
   "execution_count": 96,
   "metadata": {},
   "outputs": [
    {
     "name": "stderr",
     "output_type": "stream",
     "text": [
      "/var/folders/hj/lyy3jr1n31l00lc7kdsdnqzc0000gn/T/ipykernel_63359/2612213174.py:2: ResourceWarning: unclosed <ssl.SSLSocket fd=79, family=2, type=1, proto=0, laddr=('192.168.1.160', 57554), raddr=('168.220.87.95', 443)>\n",
      "  sdk = ShroomDK(config.shroomdk_key)\n",
      "ResourceWarning: Enable tracemalloc to get the object allocation traceback\n"
     ]
    }
   ],
   "source": [
    "#openai.api_key = openai_key\n",
    "sdk = ShroomDK(config.shroomdk_key)\n",
    "\n"
   ]
  },
  {
   "cell_type": "code",
   "execution_count": 97,
   "metadata": {},
   "outputs": [],
   "source": [
    "my_address = \"0x52F58796dA5B8D462b4FBE63dc3414D42A9776B9\"\n",
    "sql = f\"\"\"\n",
    "    SELECT \n",
    "        nft_address, \n",
    "        mint_price_eth, \n",
    "        mint_price_usd \n",
    "    FROM ethereum.core.ez_nft_mints \n",
    "    WHERE nft_to_address = LOWER('{my_address}')\n",
    "    \"\"\""
   ]
  },
  {
   "cell_type": "code",
   "execution_count": 98,
   "metadata": {},
   "outputs": [
    {
     "name": "stderr",
     "output_type": "stream",
     "text": [
      "/Users/dannyhughes/opt/anaconda3/envs/venv/lib/python3.11/site-packages/shroomdk/api.py:115: ResourceWarning: unclosed <ssl.SSLSocket fd=79, family=2, type=1, proto=0, laddr=('192.168.1.160', 57788), raddr=('168.220.87.95', 443)>\n",
      "  self.__session = http\n",
      "ResourceWarning: Enable tracemalloc to get the object allocation traceback\n"
     ]
    }
   ],
   "source": [
    "query_result_set = sdk.query(sql)"
   ]
  },
  {
   "cell_type": "code",
   "execution_count": 99,
   "metadata": {},
   "outputs": [
    {
     "data": {
      "text/plain": [
       "QueryResultSet(query_id=None, status='finished', columns=['NFT_ADDRESS', 'MINT_PRICE_ETH', 'MINT_PRICE_USD'], column_types=['string', 'number', 'number'], rows=[['0x6b1bde3d849c8f1bf2cf036613b04e5840769ac2', 0, 0], ['0x75524e4ca71ca52d1a82a997bfb7f59f7e6541d4', 0, 0], ['0x283501f44e60b412ebd92f9d88989c4d6f4e7726', 0.1, 235.96], ['0x7723e7257662df7702381474eec08d43104110c1', 0.0069, 11.33]], run_stats=QueryRunStats(started_at=datetime.datetime(2023, 3, 7, 23, 16, 25), ended_at=datetime.datetime(2023, 3, 7, 23, 16, 26), elapsed_seconds=1, record_count=4), records=[{'nft_address': '0x6b1bde3d849c8f1bf2cf036613b04e5840769ac2', 'mint_price_eth': 0, 'mint_price_usd': 0}, {'nft_address': '0x75524e4ca71ca52d1a82a997bfb7f59f7e6541d4', 'mint_price_eth': 0, 'mint_price_usd': 0}, {'nft_address': '0x283501f44e60b412ebd92f9d88989c4d6f4e7726', 'mint_price_eth': 0.1, 'mint_price_usd': 235.96}, {'nft_address': '0x7723e7257662df7702381474eec08d43104110c1', 'mint_price_eth': 0.0069, 'mint_price_usd': 11.33}], error=None)"
      ]
     },
     "execution_count": 99,
     "metadata": {},
     "output_type": "execute_result"
    }
   ],
   "source": [
    "query_result_set"
   ]
  },
  {
   "cell_type": "code",
   "execution_count": 100,
   "metadata": {},
   "outputs": [
    {
     "name": "stdout",
     "output_type": "stream",
     "text": [
      "$0x6b1bde3d849c8f1bf2cf036613b04e5840769ac2 minted for 0ETH ($0)\n",
      "$0x75524e4ca71ca52d1a82a997bfb7f59f7e6541d4 minted for 0ETH ($0)\n",
      "$0x283501f44e60b412ebd92f9d88989c4d6f4e7726 minted for 0.1ETH ($235.96)\n",
      "$0x7723e7257662df7702381474eec08d43104110c1 minted for 0.0069ETH ($11.33)\n"
     ]
    }
   ],
   "source": [
    "for record in query_result_set.records:\n",
    "    nft_address = record['nft_address']\n",
    "    mint_price_eth = record['mint_price_eth']\n",
    "    mint_price_usd = record['mint_price_usd']\n",
    "    print(f\"${nft_address} minted for {mint_price_eth}ETH (${mint_price_usd})\")"
   ]
  },
  {
   "cell_type": "code",
   "execution_count": 101,
   "metadata": {},
   "outputs": [],
   "source": [
    "sg = Subgrounds()\n"
   ]
  },
  {
   "cell_type": "code",
   "execution_count": 102,
   "metadata": {},
   "outputs": [],
   "source": [
    "quickswap = sg.load_subgraph('https://api.thegraph.com/subgraphs/name/messari/quickswap-polygon')\n"
   ]
  },
  {
   "cell_type": "code",
   "execution_count": 118,
   "metadata": {},
   "outputs": [],
   "source": [
    "quickswap_swaps = quickswap.Query.swaps(orderBy = quickswap.Query.swaps.timestamp, orderDirection = 'desc')"
   ]
  },
  {
   "cell_type": "code",
   "execution_count": 120,
   "metadata": {},
   "outputs": [
    {
     "name": "stderr",
     "output_type": "stream",
     "text": [
      "2023-03-07 17:46:38.971 INFO    subgrounds: client.query: url = https://api.thegraph.com/subgraphs/name/messari/quickswap-polygon, variables = {'first0': 100, 'skip0': 0}\n",
      "query($first0: Int, $skip0: Int) {\n",
      "  x9fdac392921bc368: swaps(first: $first0, skip: $skip0, orderBy: timestamp, orderDirection: desc, where: {}) {\n",
      "    timestamp\n",
      "    pool {\n",
      "      name\n",
      "    }\n",
      "    amountInUSD\n",
      "    id\n",
      "  }\n",
      "}\n"
     ]
    }
   ],
   "source": [
    "quickswap_df = sg.query_df([\n",
    "    quickswap_swaps.timestamp,\n",
    "    quickswap_swaps.pool.name,\n",
    "    quickswap_swaps.amountInUSD\n",
    "\n",
    "])"
   ]
  },
  {
   "cell_type": "code",
   "execution_count": 124,
   "metadata": {},
   "outputs": [],
   "source": [
    "quickswap_df['swaps_timestamp'] = pd.to_datetime(quickswap_df['swaps_timestamp'], unit='s')"
   ]
  },
  {
   "cell_type": "code",
   "execution_count": 126,
   "metadata": {},
   "outputs": [
    {
     "data": {
      "text/html": [
       "<div>\n",
       "<style scoped>\n",
       "    .dataframe tbody tr th:only-of-type {\n",
       "        vertical-align: middle;\n",
       "    }\n",
       "\n",
       "    .dataframe tbody tr th {\n",
       "        vertical-align: top;\n",
       "    }\n",
       "\n",
       "    .dataframe thead th {\n",
       "        text-align: right;\n",
       "    }\n",
       "</style>\n",
       "<table border=\"1\" class=\"dataframe\">\n",
       "  <thead>\n",
       "    <tr style=\"text-align: right;\">\n",
       "      <th></th>\n",
       "      <th>swaps_timestamp</th>\n",
       "      <th>swaps_pool_name</th>\n",
       "      <th>swaps_amountInUSD</th>\n",
       "    </tr>\n",
       "  </thead>\n",
       "  <tbody>\n",
       "    <tr>\n",
       "      <th>0</th>\n",
       "      <td>2023-03-07 23:45:28</td>\n",
       "      <td>QuickSwap Wrapped Matic/(PoS) Tether USD</td>\n",
       "      <td>1.386862</td>\n",
       "    </tr>\n",
       "    <tr>\n",
       "      <th>1</th>\n",
       "      <td>2023-03-07 23:45:28</td>\n",
       "      <td>QuickSwap Bombcrypto Coin/(PoS) Tether USD</td>\n",
       "      <td>1.390940</td>\n",
       "    </tr>\n",
       "    <tr>\n",
       "      <th>2</th>\n",
       "      <td>2023-03-07 23:45:28</td>\n",
       "      <td>QuickSwap Wombat/USD Coin (PoS)</td>\n",
       "      <td>1.069550</td>\n",
       "    </tr>\n",
       "    <tr>\n",
       "      <th>3</th>\n",
       "      <td>2023-03-07 23:45:28</td>\n",
       "      <td>QuickSwap Wrapped Matic/USD Coin (PoS)</td>\n",
       "      <td>1.072768</td>\n",
       "    </tr>\n",
       "    <tr>\n",
       "      <th>4</th>\n",
       "      <td>2023-03-07 23:45:26</td>\n",
       "      <td>QuickSwap (PoS) Tether USD/PlanetIX</td>\n",
       "      <td>21.233240</td>\n",
       "    </tr>\n",
       "    <tr>\n",
       "      <th>...</th>\n",
       "      <td>...</td>\n",
       "      <td>...</td>\n",
       "      <td>...</td>\n",
       "    </tr>\n",
       "    <tr>\n",
       "      <th>95</th>\n",
       "      <td>2023-03-07 23:42:44</td>\n",
       "      <td>QuickSwap Wrapped Matic/Nitro (PoS)</td>\n",
       "      <td>33.392230</td>\n",
       "    </tr>\n",
       "    <tr>\n",
       "      <th>96</th>\n",
       "      <td>2023-03-07 23:42:44</td>\n",
       "      <td>QuickSwap Polinate (PoS)/Wrapped Ether</td>\n",
       "      <td>8.911172</td>\n",
       "    </tr>\n",
       "    <tr>\n",
       "      <th>97</th>\n",
       "      <td>2023-03-07 23:42:44</td>\n",
       "      <td>QuickSwap Bombcrypto Coin/(PoS) Tether USD</td>\n",
       "      <td>0.660523</td>\n",
       "    </tr>\n",
       "    <tr>\n",
       "      <th>98</th>\n",
       "      <td>2023-03-07 23:42:36</td>\n",
       "      <td>QuickSwap Wrapped Matic/Sunflower Land</td>\n",
       "      <td>1.002394</td>\n",
       "    </tr>\n",
       "    <tr>\n",
       "      <th>99</th>\n",
       "      <td>2023-03-07 23:42:34</td>\n",
       "      <td>QuickSwap PolkaBridge/(PoS) Tether USD</td>\n",
       "      <td>12.121279</td>\n",
       "    </tr>\n",
       "  </tbody>\n",
       "</table>\n",
       "<p>100 rows × 3 columns</p>\n",
       "</div>"
      ],
      "text/plain": [
       "       swaps_timestamp                             swaps_pool_name  \\\n",
       "0  2023-03-07 23:45:28    QuickSwap Wrapped Matic/(PoS) Tether USD   \n",
       "1  2023-03-07 23:45:28  QuickSwap Bombcrypto Coin/(PoS) Tether USD   \n",
       "2  2023-03-07 23:45:28             QuickSwap Wombat/USD Coin (PoS)   \n",
       "3  2023-03-07 23:45:28      QuickSwap Wrapped Matic/USD Coin (PoS)   \n",
       "4  2023-03-07 23:45:26         QuickSwap (PoS) Tether USD/PlanetIX   \n",
       "..                 ...                                         ...   \n",
       "95 2023-03-07 23:42:44         QuickSwap Wrapped Matic/Nitro (PoS)   \n",
       "96 2023-03-07 23:42:44      QuickSwap Polinate (PoS)/Wrapped Ether   \n",
       "97 2023-03-07 23:42:44  QuickSwap Bombcrypto Coin/(PoS) Tether USD   \n",
       "98 2023-03-07 23:42:36      QuickSwap Wrapped Matic/Sunflower Land   \n",
       "99 2023-03-07 23:42:34      QuickSwap PolkaBridge/(PoS) Tether USD   \n",
       "\n",
       "    swaps_amountInUSD  \n",
       "0            1.386862  \n",
       "1            1.390940  \n",
       "2            1.069550  \n",
       "3            1.072768  \n",
       "4           21.233240  \n",
       "..                ...  \n",
       "95          33.392230  \n",
       "96           8.911172  \n",
       "97           0.660523  \n",
       "98           1.002394  \n",
       "99          12.121279  \n",
       "\n",
       "[100 rows x 3 columns]"
      ]
     },
     "execution_count": 126,
     "metadata": {},
     "output_type": "execute_result"
    }
   ],
   "source": [
    "quickswap_df"
   ]
  },
  {
   "cell_type": "code",
   "execution_count": null,
   "metadata": {},
   "outputs": [],
   "source": []
  }
 ],
 "metadata": {
  "kernelspec": {
   "display_name": "venv",
   "language": "python",
   "name": "python3"
  },
  "language_info": {
   "codemirror_mode": {
    "name": "ipython",
    "version": 3
   },
   "file_extension": ".py",
   "mimetype": "text/x-python",
   "name": "python",
   "nbconvert_exporter": "python",
   "pygments_lexer": "ipython3",
   "version": "3.11.0"
  },
  "orig_nbformat": 4,
  "vscode": {
   "interpreter": {
    "hash": "70f6b2f14ad6706c4ab8ec124300380276396b624f0f28c00949f9fb7f55c576"
   }
  }
 },
 "nbformat": 4,
 "nbformat_minor": 2
}
